{
  "nbformat": 4,
  "nbformat_minor": 0,
  "metadata": {
    "colab": {
      "provenance": []
    },
    "kernelspec": {
      "name": "python3",
      "display_name": "Python 3"
    },
    "language_info": {
      "name": "python"
    }
  },
  "cells": [
    {
      "cell_type": "code",
      "execution_count": 13,
      "metadata": {
        "colab": {
          "base_uri": "https://localhost:8080/"
        },
        "id": "oOrgRhiyW4mG",
        "outputId": "bedd90ae-59da-4c4a-d6eb-13463d68c75f"
      },
      "outputs": [
        {
          "output_type": "stream",
          "name": "stdout",
          "text": [
            "What calculation do you want to perform? +\n",
            "Enter 1st number: 5\n",
            "Enter 2nd number: 2\n",
            "Addition result is: 7\n"
          ]
        }
      ],
      "source": [
        "z=input(\"What calculation do you want to perform? \")\n",
        "x=int(input(\"Enter 1st number: \"))\n",
        "y=int(input(\"Enter 2nd number: \"))\n",
        "\n",
        "if z in (\"+\",\"add\"):\n",
        "    print(\"Addition result is:\",x+y)\n",
        "elif z in (\"-\",\"subtract\"):\n",
        "    print(\"Subtraction result is:\",x-y)\n",
        "elif z in (\"*\",\"multiply\"):\n",
        "    print(\"Multiplication result is:\",x*y)\n",
        "elif z in (\"/\",\"divide\"):\n",
        "    print(\"Division result is:\",x/y if y!=0 else \"Cannot divide by zero\")\n",
        "elif z in (\"%\",\"mod\"):\n",
        "    print(\"Modulus result is:\",x%y)\n",
        "elif z in (\"**\",\"pow\"):\n",
        "    print(\"Power result is:\",x**y)\n",
        "else:\n",
        "    print(\"Invalid Operation! Recheck your input!\")\n"
      ]
    },
    {
      "cell_type": "code",
      "source": [
        "z=input(\"What calculation do you want to perform? \")\n",
        "x=int(input(\"Enter 1st number: \"))\n",
        "y=int(input(\"Enter 2nd number: \"))\n",
        "\n",
        "if z in (\"+\",\"add\"):\n",
        "    print(\"Addition result is:\",x+y)\n",
        "elif z in (\"-\",\"subtract\"):\n",
        "    print(\"Subtraction result is:\",x-y)\n",
        "elif z in (\"*\",\"multiply\"):\n",
        "    print(\"Multiplication result is:\",x*y)\n",
        "elif z in (\"/\",\"divide\"):\n",
        "    print(\"Division result is:\",x/y if y!=0 else \"Cannot divide by zero\")\n",
        "elif z in (\"%\",\"mod\"):\n",
        "    print(\"Modulus result is:\",x%y)\n",
        "elif z in (\"**\",\"pow\"):\n",
        "    print(\"Power result is:\",x**y)\n",
        "else:\n",
        "    print(\"Invalid Operation! Recheck your input!\")\n"
      ],
      "metadata": {
        "colab": {
          "base_uri": "https://localhost:8080/"
        },
        "id": "mI5m2hzYZpYr",
        "outputId": "58e9761f-2bb6-41d6-db00-d011ba2034db"
      },
      "execution_count": 12,
      "outputs": [
        {
          "output_type": "stream",
          "name": "stdout",
          "text": [
            "What calculation do you want to perform? pow\n",
            "Enter 1st number: 5\n",
            "Enter 2nd number: 2\n",
            "Power result is: 25\n"
          ]
        }
      ]
    },
    {
      "cell_type": "code",
      "source": [],
      "metadata": {
        "id": "RrgLkfMmZqGl"
      },
      "execution_count": null,
      "outputs": []
    }
  ]
}